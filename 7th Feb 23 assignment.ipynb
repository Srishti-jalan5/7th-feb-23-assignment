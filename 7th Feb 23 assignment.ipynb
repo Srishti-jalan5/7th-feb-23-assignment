{
 "cells": [
  {
   "cell_type": "code",
   "execution_count": 7,
   "id": "614e4c4b-6373-4c99-b3d3-9de4be01ce66",
   "metadata": {},
   "outputs": [
    {
     "name": "stdin",
     "output_type": "stream",
     "text": [
      "Enter your password SRis@#$301\n"
     ]
    },
    {
     "name": "stdout",
     "output_type": "stream",
     "text": [
      "Valid Password\n"
     ]
    }
   ],
   "source": [
    "#Q1\n",
    "def check_password(password):\n",
    "    password_length = len(password)\n",
    "    digit, lower, upper, special = 0, 0, 0, 0 \n",
    "    for i in password:\n",
    "        if(i.isnumeric()):\n",
    "            digit = digit + 1\n",
    "        elif(i.islower()):\n",
    "            lower = lower + 1\n",
    "        elif(i.isupper()):\n",
    "            upper = upper + 1\n",
    "        elif(i.isalnum() == False):\n",
    "            special = special + 1\n",
    "            \n",
    "    if(digit >= 1 and lower >= 2 and upper >= 2 and special >= 3 and password_length == 10):\n",
    "        print(\"Valid Password\")\n",
    "    else:\n",
    "        print(\"Invalid Password\")\n",
    "        \n",
    "\n",
    "password = input(\"Enter your password\")\n",
    "check_password(password)"
   ]
  },
  {
   "cell_type": "code",
   "execution_count": 14,
   "id": "392b0349-b5ce-4400-9b0b-cc2b001350b0",
   "metadata": {},
   "outputs": [
    {
     "data": {
      "text/plain": [
       "'yes'"
      ]
     },
     "execution_count": 14,
     "metadata": {},
     "output_type": "execute_result"
    }
   ],
   "source": [
    "#Q2\n",
    "s = lambda x : \"yes\" if x[0]==\"S\" else \"No\"\n",
    "s(\"Srishti\")"
   ]
  },
  {
   "cell_type": "code",
   "execution_count": 21,
   "id": "b3df218a-52c3-465f-b6e1-388f183d8323",
   "metadata": {},
   "outputs": [
    {
     "data": {
      "text/plain": [
       "'yes'"
      ]
     },
     "execution_count": 21,
     "metadata": {},
     "output_type": "execute_result"
    }
   ],
   "source": [
    "num = lambda x : \"yes\" if x.isnumeric() else \"No\"\n",
    "num(\"34567\")"
   ]
  },
  {
   "cell_type": "code",
   "execution_count": 20,
   "id": "20de8fa8-43fa-469a-8c49-4c15c7ee7c34",
   "metadata": {},
   "outputs": [
    {
     "data": {
      "text/plain": [
       "'No'"
      ]
     },
     "execution_count": 20,
     "metadata": {},
     "output_type": "execute_result"
    }
   ],
   "source": [
    "num(\"674hfj76\")"
   ]
  },
  {
   "cell_type": "code",
   "execution_count": 3,
   "id": "c7faedfc-c8b6-4ccc-af98-8cc9f3fc2519",
   "metadata": {},
   "outputs": [
    {
     "name": "stdout",
     "output_type": "stream",
     "text": [
      "[('orange', 80), ('mango', 99), ('grapes', 1000)]\n"
     ]
    }
   ],
   "source": [
    "tup=[(\"mango\",99),(\"orange\",80), (\"grapes\", 1000)]\n",
    "tup.sort(key = lambda x: x[1])\n",
    "print(tup)"
   ]
  },
  {
   "cell_type": "code",
   "execution_count": 5,
   "id": "e8976777-3f53-4e33-a56f-2e91a56f2349",
   "metadata": {},
   "outputs": [
    {
     "data": {
      "text/plain": [
       "[1, 4, 9, 16, 25, 36, 49, 64, 81, 100]"
      ]
     },
     "execution_count": 5,
     "metadata": {},
     "output_type": "execute_result"
    }
   ],
   "source": [
    "list(map(lambda x: x**2 , range(1,11)))"
   ]
  },
  {
   "cell_type": "code",
   "execution_count": 6,
   "id": "8f85b3ca-bc41-4219-88ef-e887d017a3b1",
   "metadata": {},
   "outputs": [
    {
     "data": {
      "text/plain": [
       "[1, 8, 27, 64, 125, 216, 343, 512, 729, 1000]"
      ]
     },
     "execution_count": 6,
     "metadata": {},
     "output_type": "execute_result"
    }
   ],
   "source": [
    "list(map(lambda x: x**3 , range(1,11)))"
   ]
  },
  {
   "cell_type": "code",
   "execution_count": 9,
   "id": "f776dd14-89a4-4803-b5eb-9e6db08c5ff6",
   "metadata": {},
   "outputs": [
    {
     "data": {
      "text/plain": [
       "'True'"
      ]
     },
     "execution_count": 9,
     "metadata": {},
     "output_type": "execute_result"
    }
   ],
   "source": [
    "num = lambda x:\"True\" if x%2==0 else \"False\"\n",
    "num(28)"
   ]
  },
  {
   "cell_type": "code",
   "execution_count": 10,
   "id": "a0ecf931-b737-4da9-b3ef-45d912054b05",
   "metadata": {},
   "outputs": [
    {
     "data": {
      "text/plain": [
       "'False'"
      ]
     },
     "execution_count": 10,
     "metadata": {},
     "output_type": "execute_result"
    }
   ],
   "source": [
    "num(13)"
   ]
  },
  {
   "cell_type": "code",
   "execution_count": 12,
   "id": "c96679b8-bfd0-462c-a417-4437e509a835",
   "metadata": {},
   "outputs": [
    {
     "data": {
      "text/plain": [
       "[1, 3, 5, 7, 9]"
      ]
     },
     "execution_count": 12,
     "metadata": {},
     "output_type": "execute_result"
    }
   ],
   "source": [
    "l=[1,2,3,4,5,6,7,8,9,10]\n",
    "list(filter(lambda x: x%2 != 0, l))"
   ]
  },
  {
   "cell_type": "code",
   "execution_count": 16,
   "id": "0e49b561-1a01-4be7-b0d5-e753eed8068a",
   "metadata": {},
   "outputs": [
    {
     "name": "stdout",
     "output_type": "stream",
     "text": [
      "[-1, -2, -3, -4, -5, 0, 1, 2, 3, 4, 5, 6]\n"
     ]
    }
   ],
   "source": [
    "l2=[1,2,3,4,5,6,-1,-2,-3,-4,-5,0]\n",
    "l2.sort(key = lambda x : x>0)\n",
    "print(l2)"
   ]
  }
 ],
 "metadata": {
  "kernelspec": {
   "display_name": "Python 3 (ipykernel)",
   "language": "python",
   "name": "python3"
  },
  "language_info": {
   "codemirror_mode": {
    "name": "ipython",
    "version": 3
   },
   "file_extension": ".py",
   "mimetype": "text/x-python",
   "name": "python",
   "nbconvert_exporter": "python",
   "pygments_lexer": "ipython3",
   "version": "3.10.8"
  }
 },
 "nbformat": 4,
 "nbformat_minor": 5
}
